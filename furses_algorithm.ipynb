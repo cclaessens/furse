{
 "cells": [
  {
   "cell_type": "markdown",
   "metadata": {},
   "source": [
    "### Import spectrogram:"
   ]
  },
  {
   "cell_type": "code",
   "execution_count": 5,
   "metadata": {
    "collapsed": false
   },
   "outputs": [
    {
     "name": "stdout",
     "output_type": "stream",
     "text": [
      "(123,) (1640,)\n"
     ]
    }
   ],
   "source": [
    "import numpy as np\n",
    "\n",
    "\n",
    "Z = np.loadtxt(\"spectrogram_data/out.txt\").T\n",
    "x = np.loadtxt(\"spectrogram_data/xaxis.txt\")\n",
    "y = np.loadtxt(\"spectrogram_data/yaxis.txt\")\n",
    "\n",
    "print np.shape(x), np.shape(y)\n",
    "\n",
    "\n"
   ]
  },
  {
   "cell_type": "markdown",
   "metadata": {},
   "source": [
    "### Calculate background"
   ]
  },
  {
   "cell_type": "markdown",
   "metadata": {},
   "source": [
    "Summing over Z along x (time) and calculate ratio  Z/Backround"
   ]
  },
  {
   "cell_type": "code",
   "execution_count": 20,
   "metadata": {
    "collapsed": false
   },
   "outputs": [],
   "source": [
    "background = np.mean(Z, axis = 1)\n",
    "Background = np.zeros(np.shape(Z))\n",
    "\n",
    "\"\"\" Smoothin gbackround average over hanning window\n",
    "    half window width ww\"\"\"\n",
    "\n",
    "ww = 30\n",
    "\n",
    "for i in range(0, np.shape(background)[0]):\n",
    "    \n",
    "    if i <= ww:\n",
    "        background[i] = np.average(background[0:2*i+1], weights=np.hanning(2*i+1))\n",
    "        \n",
    "    elif i >= np.shape(background)[0]-ww:\n",
    "\n",
    "        background[i] = np.average(background[-np.shape(background)[0]+2*i:-1], weights = np.hanning((np.shape(background)[0]-i)*2-1))\n",
    "        \n",
    "    else:\n",
    "        background[i] = np.average(background[i-ww:i+ww], weights = np.hanning(2*ww))\n",
    "\n",
    "\n",
    "for i in range(np.shape(x)[0]):\n",
    "    Background[:,i] = background\n",
    "\n",
    "rate = np.copy(Z)/Background\n",
    "\n"
   ]
  },
  {
   "cell_type": "markdown",
   "metadata": {},
   "source": [
    "### plot spectrogram "
   ]
  },
  {
   "cell_type": "markdown",
   "metadata": {},
   "source": [
    "plot funtion:"
   ]
  },
  {
   "cell_type": "code",
   "execution_count": 26,
   "metadata": {
    "collapsed": true
   },
   "outputs": [],
   "source": [
    "# %load plot_spectrogram.py\n",
    "\"\"\"\n",
    "Created on Thu Jan 28 11:28:35 2016\n",
    "\n",
    "@author: claessen\n",
    "\"\"\"\n",
    "\n",
    "import matplotlib.pyplot as plt\n",
    "\n",
    "def plot_spectrogram(X, Y, Z, figno, clabel):\n",
    "    \n",
    "    plt.figure(figno)\n",
    "    plt.contourf(X, Y, Z, 20)\n",
    "    cbar = plt.colorbar()\n",
    "    cbar.ax.set_ylabel(clabel)\n",
    "\n",
    "    plt.title(\"spectrogam\")\n",
    "    plt.xlabel(\"time /s\")\n",
    "    plt.ylabel(\"frequency /Hz\")\n",
    "    plt.show()\n",
    "    \n",
    "    return"
   ]
  },
  {
   "cell_type": "markdown",
   "metadata": {},
   "source": [
    "plot data unfiltered and filtered"
   ]
  },
  {
   "cell_type": "code",
   "execution_count": 32,
   "metadata": {
    "collapsed": false
   },
   "outputs": [],
   "source": [
    "X, Y = np.meshgrid(x, y)\n",
    "\n",
    "plot_spectrogram(X, Y, Z*10**9, 1, \"Power /nWatt\" )\n",
    "plot_spectrogram(X, Y, rate, 2, \"rate\" )\n",
    "\n",
    "#plt.figure(3)\n",
    "#plt.plot(y, backround)\n",
    "#plt.show()\n",
    "plt.figure(2)\n",
    "plt.plot(y, Background[:,0])\n",
    "plt.show()"
   ]
  },
  {
   "cell_type": "markdown",
   "metadata": {},
   "source": [
    "## Furses algorithm"
   ]
  },
  {
   "cell_type": "markdown",
   "metadata": {},
   "source": [
    "give score to datapoints"
   ]
  },
  {
   "cell_type": "code",
   "execution_count": 33,
   "metadata": {
    "collapsed": false
   },
   "outputs": [
    {
     "name": "stdout",
     "output_type": "stream",
     "text": [
      "-44239\n"
     ]
    }
   ],
   "source": [
    "\"\"\" parameters\"\"\"\n",
    "\n",
    "aplus = 1.0\n",
    "aminus = -3.0\n",
    "bplus = 1.5\n",
    "bminus = 1.0\n",
    "t = 1.5\n",
    "\n",
    "scores = np.zeros(np.shape(rate))\n",
    "\n",
    "scores[np.where(rate>=t)] = aplus*(rate[np.where(rate>=t)]-t)**bplus\n",
    "scores[np.where(rate<t)] = aminus*(t-rate[np.where(rate<t)])**bminus\n",
    "\n",
    "\n",
    "plot_spectrogram(X, Y, scores, 3, \"scores\")\n"
   ]
  },
  {
   "cell_type": "markdown",
   "metadata": {},
   "source": [
    "#### line object"
   ]
  },
  {
   "cell_type": "code",
   "execution_count": 34,
   "metadata": {
    "collapsed": false
   },
   "outputs": [],
   "source": [
    "class line:\n",
    "    def __init__(self, counter, startpos, startfreq, startscore):\n",
    "        \n",
    "        self.number = counter\n",
    "        \n",
    "        \"line porperties\"\n",
    "        self.slope = 0\n",
    "        self.length = 1\n",
    "        self.score = startscore\n",
    "        self.startpos = startpos\n",
    "        self.startfreq = startfreq\n",
    "        \n",
    "        \"point lists\"\n",
    "        self.scorelist = []\n",
    "        self.binlist= []\n",
    "        self.freqlist = []\n",
    "        \n",
    "        self.scorelist.append(self.score)\n",
    "        self.binlist.append(self.startpos)\n",
    "        self.freqlist.append(startfreq)\n",
    "\n",
    "        \n",
    "        \n",
    "    def investigate_point(self, pos, freqin, curslice):\n",
    "        \n",
    "        match = 0\n",
    "       \n",
    "        if  np.abs(freqin-(self.startfreq+self.slope*(pos-self.startpos)))< freq_delta: #np.abs(pos-self.curpos)<=bin_delta and\n",
    "            match = 1\n",
    "            \n",
    "            \"check neighbour points\"\n",
    "            freqin, score = converge_function(freqin, curslice)\n",
    "            \n",
    "      \n",
    "            \"calculate new line properties\"\n",
    "            self.length = pos - self.startpos\n",
    "            self.slope =np.mean(np.abs((freqin-np.array(self.freqlist))/(pos-np.array(self.binlist))))\n",
    "\n",
    "            \n",
    "            \"collect points\"\n",
    "            self.freqlist.append(freqin)\n",
    "            self.binlist.append(pos)\n",
    "            self.scorelist.append(score)\n",
    "            \n",
    "            \"calculate new line score\"\n",
    "            if self.length < lan:\n",
    "                self.score = np.sum(self.scorelist)\n",
    "            else:\n",
    "                self.score = np.sum(self.scorelist[int(-lan):-1])\n",
    "                                \n",
    "            if self.score < line_thresh:\n",
    "                match = 0\n",
    "\n",
    "           \n",
    "     \n",
    "        return match, freq\n",
    "    \n",
    "    \"trim edges\"\n",
    "    def trimming(self):\n",
    "\n",
    "        delmyself = 0\n",
    "        \n",
    "        while np.array(self.scorelist[-1]) < mu*np.mean(scores[:,int(self.binlist[-1])]):\n",
    "            if len(self.binlist)<2:\n",
    "                break\n",
    "            else:\n",
    "                del self.scorelist[-1]\n",
    "                del self.binlist[-1]\n",
    "                del self.freqlist[-1]\n",
    "                                                   \n",
    "        while self.scorelist[0] < mu*np.mean(scores[:,self.binlist[0]]):\n",
    "            if len(self.binlist)<2:\n",
    "                break\n",
    "            else:\n",
    "                del self.scorelist[0]\n",
    "                del self.binlist[0]\n",
    "                del self.freqlist[0]  \n",
    "            \n",
    "        \"final properties\"\n",
    "        self.length = len(self.binlist)\n",
    "        self.startfreq = self.freqlist[0]\n",
    "        self.slope = self.freqlist[-1]-self.freqlist[0]\n",
    "        \n",
    "        for i in range(self.length):\n",
    "\n",
    "            j = np.where(np.abs(self.freqlist[i]-y)==np.min(np.abs(self.freqlist[i]-y)))[0][0]\n",
    "            self.scorelist[i] = np.sum(scores[j-nu:j+nu,self.binlist[i]])\n",
    "\n",
    "        return delmyself"
   ]
  },
  {
   "cell_type": "markdown",
   "metadata": {},
   "source": [
    "function to inspect nearby datapoint and recalculated weighed frequency"
   ]
  },
  {
   "cell_type": "code",
   "execution_count": 35,
   "metadata": {
    "collapsed": false
   },
   "outputs": [],
   "source": [
    "def converge_function(f, s1):\n",
    "    delta = freq_delta + df\n",
    "    loop_counter = 0\n",
    "\n",
    "    \n",
    "    while np.abs(delta) > freq_delta:\n",
    "        loop_counter += 1\n",
    "        if loop_counter > 10:\n",
    "            print \"loop error\", delta, jj\n",
    "            break\n",
    "        \n",
    "        else:\n",
    "\n",
    "            j = np.where(np.abs(y-f)==np.min(np.abs(y-f)))[0][0]\n",
    "            score = s1[j]\n",
    "            if j>bin_delta and j < np.shape(y)[0]-bin_delta:\n",
    "                new_freq = np.average(y[j-bin_delta:j+bin_delta+1], weights=s1[j-bin_delta:j+bin_delta+1])\n",
    "\n",
    "                score = np.sum(s1[j-bin_delta:j+bin_delta+1])\n",
    "                delta = np.abs(new_freq-f)\n",
    "                f = new_freq\n",
    "                    \n",
    "    f1 = f\n",
    "    global slice1\n",
    "    slice1[j-bin_delta:j+bin_delta+1] = -sigma\n",
    "\n",
    "    \n",
    "    return f1, score"
   ]
  },
  {
   "cell_type": "markdown",
   "metadata": {},
   "source": [
    "find lines in instreaming data slices"
   ]
  },
  {
   "cell_type": "code",
   "execution_count": 39,
   "metadata": {
    "collapsed": false
   },
   "outputs": [
    {
     "name": "stdout",
     "output_type": "stream",
     "text": [
      "41.3683489616\n",
      "total number of candidates:  1\n",
      "\n",
      "candidate  0\n",
      "start [s]:  0.00107368918033\n",
      "frequency [MHz]:  78.3919966552\n",
      "total score:  9124.60520547\n",
      "slope  1374411.86257\n",
      "length [bins] 38\n"
     ]
    }
   ],
   "source": [
    "\" parameters\" \n",
    "mu = 0.5\n",
    "nu = 2\n",
    "thresh = 0.05*np.max(scores)\n",
    "sigma = -5.0\n",
    "lan = 20.0\n",
    "line_thresh = lan*thresh\n",
    "print thresh\n",
    "\n",
    "\n",
    "\n",
    "\" acceptance\"\n",
    "bin_delta = 10\n",
    "df = (y[1]-y[0])\n",
    "\n",
    "freq_delta = df*bin_delta\n",
    "\n",
    "\n",
    "\" dictionary of lines\"\n",
    "candidates = {}\n",
    "counter = 0\n",
    "\n",
    "\n",
    "\" instreaming slices\"\n",
    "slice_number = np.shape(x)[0]\n",
    "s = np.copy(scores)\n",
    "\n",
    "\n",
    "for ii in range(slice_number):\n",
    "\n",
    "    freq = 0\n",
    "    slice1 = s[:, ii]\n",
    "    freq_list = np.where(slice1>=thresh)\n",
    "    \n",
    "    if len(slice1[freq_list]) > 0:\n",
    "\n",
    "\n",
    "        for ll in range(len(slice1[freq_list])):  \n",
    "\n",
    "            old_freq = freq\n",
    "            freq = y[freq_list[0][ll]]\n",
    "\n",
    "                        \n",
    "            if np.abs(old_freq-freq) > freq_delta:\n",
    "                match = 0 \n",
    "\n",
    "                \"let existing lines check if new point is a match\"\n",
    "                for jj in range(len(candidates)):\n",
    "                    match, new_freq = candidates[str(jj)].investigate_point(ii, freq, slice1) \n",
    "                    \n",
    "                    if match == 1:\n",
    "                        freq = new_freq\n",
    "                        break\n",
    "                        \n",
    "                \"otherwise create new line\"\n",
    "                if match == 0:\n",
    "                    freq, score = converge_function(freq, slice1)\n",
    "                    candidates[str(counter)] = line(counter, ii, freq, score)\n",
    "\n",
    "                    counter += 1\n",
    "    \n",
    "                    \n",
    "                \n",
    "print \"total number of candidates: \", counter                            \n",
    "\n",
    "candidates = {k:v for (k,v) in candidates.iteritems() if (v.slope != 0 and v.length >= lan)}\n",
    "    \n",
    "for mm in candidates.keys():\n",
    "\n",
    "    candidates[mm].trimming()\n",
    "    \n",
    "candidates = {k:v for (k,v) in candidates.iteritems() if (v.slope != 0 and v.length >= lan)}\n",
    "\n",
    "for mm in candidates.keys():\n",
    "    print \"\\ncandidate \", mm\n",
    "    print \"start [s]: \" , x[candidates[mm].startpos]\n",
    "    print \"frequency [MHz]: \", candidates[mm].startfreq/10**6\n",
    "    print \"total score: \", candidates[mm].score\n",
    "    print \"slope \",  candidates[mm].slope\n",
    "    print \"length [bins]\", candidates[mm].length\n",
    "#    print candidates[mm].curfreq"
   ]
  },
  {
   "cell_type": "code",
   "execution_count": 90,
   "metadata": {
    "collapsed": false
   },
   "outputs": [],
   "source": [
    "line1 = candidates[str(0)]\n",
    "\n",
    "plt.figure(1)\n",
    "plt.scatter(x[line1.binlist], line1.freqlist, c=line1.scorelist)\n",
    "plt.xlim([0, 0.01])\n",
    "plt.ylim([np.min(y), np.max(y)])\n",
    "cbar = plt.colorbar()\n",
    "cbar.ax.set_ylabel('score')\n",
    "plt.show()\n"
   ]
  },
  {
   "cell_type": "code",
   "execution_count": 78,
   "metadata": {
    "collapsed": false
   },
   "outputs": [
    {
     "name": "stdout",
     "output_type": "stream",
     "text": [
      "0.0122144791031\n"
     ]
    }
   ],
   "source": [
    "print df/10**6"
   ]
  },
  {
   "cell_type": "code",
   "execution_count": 49,
   "metadata": {
    "collapsed": false
   },
   "outputs": [
    {
     "data": {
      "text/plain": [
       "(1640, 123)"
      ]
     },
     "execution_count": 49,
     "metadata": {},
     "output_type": "execute_result"
    }
   ],
   "source": [
    "np.shape(scores)"
   ]
  },
  {
   "cell_type": "code",
   "execution_count": null,
   "metadata": {
    "collapsed": true
   },
   "outputs": [],
   "source": []
  }
 ],
 "metadata": {
  "kernelspec": {
   "display_name": "Python 2",
   "language": "python",
   "name": "python2"
  },
  "language_info": {
   "codemirror_mode": {
    "name": "ipython",
    "version": 2
   },
   "file_extension": ".py",
   "mimetype": "text/x-python",
   "name": "python",
   "nbconvert_exporter": "python",
   "pygments_lexer": "ipython2",
   "version": "2.7.9"
  }
 },
 "nbformat": 4,
 "nbformat_minor": 0
}
