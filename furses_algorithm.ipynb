{
 "cells": [
  {
   "cell_type": "markdown",
   "metadata": {},
   "source": [
    "### Prepare spectrogram:"
   ]
  },
  {
   "cell_type": "markdown",
   "metadata": {},
   "source": [
    "Import packages and functions"
   ]
  },
  {
   "cell_type": "code",
   "execution_count": 1,
   "metadata": {
    "collapsed": false
   },
   "outputs": [],
   "source": [
    "import numpy as np\n",
    "import matplotlib.pyplot as plt\n",
    "%matplotlib inline\n",
    "from plot_spectrogram import plot_spectrogram\n",
    "from hanning_background import hanning_background\n",
    "\n",
    "# plot_spectrogram takes inputs X, Y (meshgrid) and 2D data matrix Z. Furthermore number of figure and label of colorbar\n",
    "# hanning background takes data matrix and time axis\n",
    "\n",
    "# branch 1"
   ]
  },
  {
   "cell_type": "code",
   "execution_count": 2,
   "metadata": {
    "collapsed": false
   },
   "outputs": [],
   "source": [
    "#import matplotlib\n",
    "#matplotlib.rcsetup.all_backends\n",
    "#%matplotlib auto"
   ]
  },
  {
   "cell_type": "markdown",
   "metadata": {},
   "source": [
    "Load data"
   ]
  },
  {
   "cell_type": "code",
   "execution_count": 3,
   "metadata": {
    "collapsed": true
   },
   "outputs": [],
   "source": [
    "Z = np.loadtxt(\"spectrogram_data/out_1.txt\").T\n",
    "x = np.loadtxt(\"spectrogram_data/xaxis_1.txt\")\n",
    "y = np.loadtxt(\"spectrogram_data/yaxis_1.txt\")\n",
    "\n",
    "X, Y = np.meshgrid(x, y)"
   ]
  },
  {
   "cell_type": "markdown",
   "metadata": {},
   "source": [
    "Summing over Z along x (time) and calculate ratio  Z/Backround"
   ]
  },
  {
   "cell_type": "code",
   "execution_count": 16,
   "metadata": {
    "collapsed": false
   },
   "outputs": [],
   "source": [
    "Background1 = hanning_background(Z, x)\n",
    "rate1 = np.copy(Z)/Background1\n",
    "\n",
    "\n"
   ]
  },
  {
   "cell_type": "markdown",
   "metadata": {},
   "source": [
    "### plot spectrogram "
   ]
  },
  {
   "cell_type": "code",
   "execution_count": 17,
   "metadata": {
    "collapsed": false
   },
   "outputs": [
    {
     "data": {
      "image/png": "[encoded data removed]",
      "text/plain": [
       "<matplotlib.figure.Figure at 0x7fa7777f7190>"
      ]
     },
     "metadata": {},
     "output_type": "display_data"
    }
   ],
   "source": [
    "#plot_spectrogram(X, Y, Z*10**9, 1, \"Power /nWatt\" )\n",
    "plot_spectrogram(X, Y, rate1, 2, \"rate\" )\n"
   ]
  },
  {
   "cell_type": "markdown",
   "metadata": {},
   "source": [
    "## Furses algorithm"
   ]
  },
  {
   "cell_type": "markdown",
   "metadata": {},
   "source": [
    "give score to datapoints"
   ]
  },
  {
   "cell_type": "code",
   "execution_count": 18,
   "metadata": {
    "collapsed": false
   },
   "outputs": [],
   "source": [
    "\"\"\" parameters\"\"\"\n",
    "\n",
    "rate = rate2\n",
    "aplus = 1.0\n",
    "aminus = -3.0\n",
    "bplus = 1.5\n",
    "bminus = 1.0\n",
    "t = 1.5\n",
    "\n",
    "scores = np.zeros(np.shape(rate))\n",
    "\n",
    "scores[np.where(rate>=t)] = aplus*(rate[np.where(rate>=t)]-t)**bplus\n",
    "scores[np.where(rate<t)] = aminus*(t-rate[np.where(rate<t)])**bminus\n",
    "\n",
    "\n",
    "#plot_spectrogram(X, Y, scores, 3, \"scores\")\n"
   ]
  },
  {
   "cell_type": "markdown",
   "metadata": {},
   "source": [
    "#### line object"
   ]
  },
  {
   "cell_type": "code",
   "execution_count": 19,
   "metadata": {
    "collapsed": false
   },
   "outputs": [],
   "source": [
    "class line:\n",
    "    def __init__(self, startpos, startfreq, startscore):\n",
    "        \n",
    "        self.active = 1\n",
    "        \n",
    "        \n",
    "        \"point lists\"\n",
    "        self.scorelist = []\n",
    "        self.binlist= []\n",
    "        self.freqlist = []\n",
    "        self.trimming_limits = []\n",
    "        \n",
    "        \"line porperties\"\n",
    "        self.slope = 0\n",
    "        self.length = 1\n",
    "        self.score = startscore\n",
    "        self.startpos = startpos\n",
    "        self.startfreq = startfreq\n",
    "        \n",
    "        \" fill lists\"\n",
    "        self.scorelist.append(self.score)\n",
    "        self.binlist.append(self.startpos)\n",
    "        self.freqlist.append(startfreq)\n",
    "        self.trimming_limits.append(np.mean(slice0)) \n",
    "\n",
    "        \n",
    "    \" class functin to check whether new point candidates fits in line\"\n",
    "    \n",
    "    def investigate_point(self, pos, freqin, curslice):\n",
    "        \n",
    "        match = 0\n",
    "        if pos-self.binlist[-1] > bin_delta:\n",
    "            self.active = 0\n",
    "       \n",
    "        if  np.abs(freqin-(self.startfreq+self.slope*(pos-self.startpos)))< freq_delta: #np.abs(pos-self.curpos)<=bin_delta and\n",
    "\n",
    "            \n",
    "            \"check neighbour points\"\n",
    "            freq, score = converge_function(freqin, curslice)\n",
    "            \n",
    "            if  np.abs(freq-(self.startfreq+self.slope*(pos-self.startpos)))< freq_delta:\n",
    "                \n",
    "                freqin = freq\n",
    "                match = 1\n",
    "                \n",
    "      \n",
    "                \"calculate new line properties\"\n",
    "                self.length = pos - self.startpos\n",
    "         \n",
    "                self.slope =np.mean(np.abs((freqin-np.array(self.freqlist))/(pos-np.array(self.binlist))))\n",
    "      \n",
    "\n",
    "                \"collect points\"\n",
    "                self.freqlist.append(freqin)\n",
    "                self.binlist.append(pos)\n",
    "                self.scorelist.append(score)\n",
    "                self.trimming_limits.append(np.mean(slice0))\n",
    "\n",
    "                \"calculate new line score\"\n",
    "\n",
    "                if self.length > lan and np.sum(self.scorelist[int(-lan):-1]) < line_thresh:\n",
    "                    self.active = 0\n",
    "\n",
    "           \n",
    "        return match, freqin\n",
    "    \n",
    "    \"trim edges\"\n",
    "    def trimming(self):\n",
    "        print self.trimming_limits[-1]   \n",
    "        while self.scorelist[-1] < mu*self.trimming_limits[-1] and len(self.binlist)<lan:\n",
    "\n",
    "            del self.scorelist[-1]\n",
    "            del self.binlist[-1]\n",
    "            del self.freqlist[-1]\n",
    "            del self.trimming_limits[-1]\n",
    "                                      \n",
    "        while self.scorelist[0] < mu*self.trimming_limits[0] and len(self.binlist)<lan:\n",
    "\n",
    "            del self.scorelist[0]\n",
    "            del self.binlist[0]\n",
    "            del self.freqlist[0]  \n",
    "            del self.trimming_limits[0]\n",
    "            \n",
    "        \"final properties\"\n",
    "        self.length = len(self.binlist)\n",
    "        self.startfreq = self.freqlist[0]\n",
    "        #self.slope = self.freqlist[-1]-self.freqlist[0]\n",
    "        \n",
    "        for i in range(self.length):\n",
    "\n",
    "            j = np.where(np.abs(self.freqlist[i]-y)==np.min(np.abs(self.freqlist[i]-y)))[0][0]\n",
    "            self.scorelist[i] = np.sum(scores[j-nu:j+nu,self.binlist[i]])\n",
    "\n",
    "        return "
   ]
  },
  {
   "cell_type": "markdown",
   "metadata": {},
   "source": [
    "function to inspect nearby datapoint and recalculated weighed frequency"
   ]
  },
  {
   "cell_type": "code",
   "execution_count": 20,
   "metadata": {
    "collapsed": false
   },
   "outputs": [],
   "source": [
    "def converge_function(f, s1):\n",
    "    delta = freq_delta + df\n",
    "    loop_counter = 0\n",
    "\n",
    "    \n",
    "    while np.abs(delta) > freq_delta:\n",
    "        loop_counter += 1\n",
    "        if loop_counter > 10:\n",
    "            f = 0\n",
    "            # print \"loop error\", delta, jj\n",
    "            break\n",
    "        \n",
    "        else:\n",
    "\n",
    "            j = np.where(np.abs(y-f)==np.min(np.abs(y-f)))[0][0]\n",
    "            score = s1[j]\n",
    "            if j>bin_delta and j < np.shape(y)[0]-bin_delta:\n",
    "                new_freq = np.average(y[j-bin_delta:j+bin_delta+1], weights=s1[j-bin_delta:j+bin_delta+1])\n",
    "\n",
    "                score = np.sum(s1[j-bin_delta:j+bin_delta+1])\n",
    "                delta = np.abs(new_freq-f)\n",
    "                f = new_freq\n",
    "                    \n",
    "    f1 = f\n",
    "    global slice1\n",
    "    slice1[j-bin_delta:j+bin_delta+1] = -sigma\n",
    "\n",
    "    \n",
    "    return f1, score"
   ]
  },
  {
   "cell_type": "markdown",
   "metadata": {},
   "source": [
    "find lines in instreaming data slices"
   ]
  },
  {
   "cell_type": "code",
   "execution_count": 21,
   "metadata": {
    "collapsed": false
   },
   "outputs": [
    {
     "name": "stdout",
     "output_type": "stream",
     "text": [
      "total number of candidates:  182\n",
      "-1.93212222511\n",
      "-1.899258562\n",
      "\n",
      "candidate  18\n",
      "start [s]:  0.00107368918033\n",
      "frequency [MHz]:  78.392254187\n",
      "total score:  526.413678438\n",
      "slope  36467.1570085\n",
      "length [bins] 38\n"
     ]
    }
   ],
   "source": [
    "\" parameters\" \n",
    "mu = 0.5\n",
    "nu = 2\n",
    "thresh = 0.02*np.max(scores)\n",
    "sigma = -5.0\n",
    "lan = 10.0\n",
    "line_thresh = lan*thresh\n",
    "\n",
    "\n",
    "\n",
    "\" acceptance\"\n",
    "bin_delta = 10\n",
    "df = (y[1]-y[0])\n",
    "\n",
    "freq_delta = df*bin_delta\n",
    "\n",
    "\n",
    "\" dictionary of lines\"\n",
    "candidates = {}\n",
    "counter = 0\n",
    "\n",
    "\n",
    "\" instreaming slices\"\n",
    "slice_number = np.shape(x)[0]\n",
    "s = np.copy(scores)\n",
    "\n",
    "\n",
    "for ii in range(slice_number):\n",
    "\n",
    "    freq = 0\n",
    "    slice0 = s[:, ii]\n",
    "    slice1 = np.copy(slice0)\n",
    "    freq_list = np.where(slice1>=thresh)\n",
    "    \n",
    "    if len(slice1[freq_list]) > 0:\n",
    "\n",
    "\n",
    "        for ll in range(len(slice1[freq_list])):  \n",
    "\n",
    "            old_freq = freq\n",
    "            freq = y[freq_list[0][ll]]\n",
    "\n",
    "                        \n",
    "            if np.abs(old_freq-freq) > freq_delta:\n",
    "                match = 0 \n",
    "\n",
    "                \"let existing lines check if new point is a match\"\n",
    "                \n",
    "                candidates2check = {k:v for (k,v) in candidates.iteritems() if (ii-v.binlist[-1] > 0 and v.active ==1)} \n",
    "               \n",
    "                for jj in candidates2check.keys():\n",
    "\n",
    "                    match, new_freq = candidates[jj].investigate_point(ii, freq, slice1) \n",
    "                    \n",
    "                    if match == 1:\n",
    "                        freq = new_freq\n",
    "\n",
    "                        break\n",
    "                        \n",
    "                \"otherwise create new line\"\n",
    "                if match == 0:\n",
    "                    freq, score = converge_function(freq, slice1)\n",
    "                    candidates[str(counter)] = line(ii, freq, score)\n",
    "\n",
    "                    counter += 1\n",
    " \n",
    "                    \n",
    "                \n",
    "print \"total number of candidates: \", counter                            \n",
    "\n",
    "candidates = {k:v for (k,v) in candidates.iteritems() if (v.slope != 0 and v.length >= lan)}\n",
    "    \n",
    "for mm in candidates.keys():\n",
    "\n",
    "        candidates[mm].trimming()\n",
    "    \n",
    "candidates = {k:v for (k,v) in candidates.iteritems() if (v.slope != 0 and v.length >= lan)}\n",
    "\n",
    "for mm in candidates.keys():\n",
    "    print \"\\ncandidate \", mm\n",
    "    print \"start [s]: \" , x[candidates[mm].startpos]\n",
    "    print \"frequency [MHz]: \", candidates[mm].startfreq/10**6\n",
    "    print \"total score: \", candidates[mm].score\n",
    "    print \"slope \",  candidates[mm].slope\n",
    "    print \"length [bins]\", candidates[mm].length\n",
    "#    print candidates[mm].curfreq"
   ]
  },
  {
   "cell_type": "code",
   "execution_count": 22,
   "metadata": {
    "collapsed": false
   },
   "outputs": [
    {
     "data": {
      "image/png": "[encoded data removed]",
      "text/plain": [
       "<matplotlib.figure.Figure at 0x7fa777496450>"
      ]
     },
     "metadata": {},
     "output_type": "display_data"
    }
   ],
   "source": [
    "import matplotlib.pyplot as plt\n",
    "\n",
    "fig = plt.figure(1)\n",
    "ax = fig.add_subplot(111)\n",
    "for mm in candidates.keys():\n",
    "    line1 = candidates[mm]\n",
    "\n",
    "    plt.scatter(x[line1.binlist], line1.freqlist, c=line1.scorelist)\n",
    "\n",
    "\n",
    "\n",
    "anot_text = 'start frequency '+str(np.round(line1.startfreq/10**5)/10)+' MHz \\n number of points = '+ str(line1.length)\n",
    "ax.text(0.005, 1.7*10**8, anot_text)\n",
    "        #bbox={'facecolor':'white', 'alpha':0.5, 'pad':10})\n",
    "plt.xlim([0, 0.01])\n",
    "plt.ylim([np.min(y), np.max(y)])\n",
    "plt.title('electron line')\n",
    "plt.xlabel('time /s')\n",
    "plt.ylabel('frequency /Hz')\n",
    "cbar = plt.colorbar()\n",
    "cbar.ax.set_ylabel('score')\n",
    "plt.show()\n",
    "\n"
   ]
  },
  {
   "cell_type": "code",
   "execution_count": null,
   "metadata": {
    "collapsed": true
   },
   "outputs": [],
   "source": []
  }
 ],
 "metadata": {
  "kernelspec": {
   "display_name": "Python 2",
   "language": "python",
   "name": "python2"
  },
  "language_info": {
   "codemirror_mode": {
    "name": "ipython",
    "version": 2
   },
   "file_extension": ".py",
   "mimetype": "text/x-python",
   "name": "python",
   "nbconvert_exporter": "python",
   "pygments_lexer": "ipython2",
   "version": "2.7.9"
  }
 },
 "nbformat": 4,
 "nbformat_minor": 0
}
